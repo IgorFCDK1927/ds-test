{
 "cells": [
  {
   "cell_type": "code",
   "execution_count": 1,
   "id": "83d5c849-db05-490d-862a-425fa044c54e",
   "metadata": {},
   "outputs": [
    {
     "name": "stdout",
     "output_type": "stream",
     "text": [
      "NER-model is ready.\n",
      "Animal in the text: ['dog']\n"
     ]
    }
   ],
   "source": [
    "import spacy\n",
    "\n",
    "NER_MODEL_PATH = \"ner-model/ner_animal_model\"\n",
    "nlp = spacy.load(NER_MODEL_PATH)\n",
    "\n",
    "print(\"NER-model is ready.\")\n",
    "\n",
    "# Ner-prediction\n",
    "text = \"Dog is my the most favorite animal.\"\n",
    "doc = nlp(text)\n",
    "extracted_animals = [ent.text.lower() for ent in doc.ents if ent.label_ == \"ANIMAL\"]\n",
    "\n",
    "print(f\"Animal in the text: {extracted_animals}\")\n"
   ]
  },
  {
   "cell_type": "code",
   "execution_count": 2,
   "id": "393c876a-f45c-4c45-a66d-35f4765ae64b",
   "metadata": {},
   "outputs": [
    {
     "name": "stdout",
     "output_type": "stream",
     "text": [
      "The image classification model is ready\n"
     ]
    }
   ],
   "source": [
    "import torch\n",
    "from torchvision import models\n",
    "import torch.nn as nn\n",
    "\n",
    "# Loading animal classification (RESNET18)\n",
    "device = torch.device(\"cpu\")\n",
    "model = models.resnet18(weights=models.ResNet18_Weights.DEFAULT)\n",
    "num_ftrs = model.fc.in_features\n",
    "model.fc = nn.Linear(num_ftrs, 10)  # 10 types of animals\n",
    "\n",
    "# Load file with training model\n",
    "CLASSIFIER_MODEL_PATH = \"image_classifier/animal_classifier.pth\"\n",
    "model.load_state_dict(torch.load(CLASSIFIER_MODEL_PATH, map_location=device))\n",
    "model.eval()\n",
    "\n",
    "print(\"The image classification model is ready\")\n"
   ]
  },
  {
   "cell_type": "code",
   "execution_count": 3,
   "id": "62adb119-f9ee-45fc-a11b-3db3c079bbe5",
   "metadata": {},
   "outputs": [
    {
     "name": "stdout",
     "output_type": "stream",
     "text": [
      "Predicted animal by image: dog\n"
     ]
    }
   ],
   "source": [
    "from PIL import Image\n",
    "import torchvision.transforms as transforms\n",
    "\n",
    "# Our types of animals\n",
    "class_names = ['butterfly', 'cat', 'chicken', 'cow', 'dog', 'elep', 'horse', 'sheep', 'spider', 'squirrel']\n",
    "\n",
    "# Function of preprocessing image\n",
    "def preprocess_image(image_path):\n",
    "    transform = transforms.Compose([\n",
    "        transforms.Resize((224, 224)),\n",
    "        transforms.ToTensor(),\n",
    "        transforms.Normalize([0.5], [0.5])\n",
    "    ])\n",
    "    image = Image.open(image_path).convert(\"RGB\")\n",
    "    return transform(image).unsqueeze(0)\n",
    "\n",
    "# Function of animal prediction\n",
    "def predict_animal(image_path):\n",
    "    image_tensor = preprocess_image(image_path)\n",
    "    with torch.no_grad():\n",
    "        output = model(image_tensor)\n",
    "        _, predicted = torch.max(output, 1)\n",
    "    return class_names[predicted.item()]\n",
    "\n",
    "image_path = \"an_dataset/processed_224x224/test/dog/OIP-2blBR9VXGyR_GNy3yzR1TAHaEK.jpeg\"\n",
    "predicted_label = predict_animal(image_path)\n",
    "\n",
    "print(f\"Predicted animal by image: {predicted_label}\")\n"
   ]
  },
  {
   "cell_type": "code",
   "execution_count": 4,
   "id": "078248c7-aae7-4946-a8cd-fa816401ac10",
   "metadata": {},
   "outputs": [
    {
     "name": "stdout",
     "output_type": "stream",
     "text": [
      "Animal in the text: ['dog']\n",
      "Prediction image: dog\n",
      "Matching: True\n",
      "Final_result: True\n"
     ]
    }
   ],
   "source": [
    "def final_pipeline(text, image_path):\n",
    "    # NER prediction\n",
    "    doc = nlp(text)\n",
    "    extracted_animals = [ent.text.lower() for ent in doc.ents if ent.label_ == \"ANIMAL\"]\n",
    "\n",
    "    # Image classifier\n",
    "    predicted_animal = predict_animal(image_path)\n",
    "\n",
    "    print(f\"Animal in the text: {extracted_animals}\")\n",
    "    print(f\"Prediction image: {predicted_animal}\")\n",
    "\n",
    "    match = any(animal in predicted_animal for animal in extracted_animals)\n",
    "    print(f\"Matching: {match}\")\n",
    "    \n",
    "    return match\n",
    "\n",
    "text_input = \"My dog is the best pet!\"\n",
    "image_input = \"an_dataset/processed_224x224/test/dog/OIP-2blBR9VXGyR_GNy3yzR1TAHaEK.jpeg\"\n",
    "\n",
    "result = final_pipeline(text_input, image_input)\n",
    "print(f\"Final_result: {result}\")\n"
   ]
  },
  {
   "cell_type": "code",
   "execution_count": 5,
   "id": "4126c0c2-d016-4b4e-94c9-8f577f5a5567",
   "metadata": {},
   "outputs": [
    {
     "name": "stdout",
     "output_type": "stream",
     "text": [
      "Note: you may need to restart the kernel to use updated packages.\n"
     ]
    }
   ],
   "source": [
    "pip freeze > requirements.txt"
   ]
  },
  {
   "cell_type": "code",
   "execution_count": null,
   "id": "18423b3c-3fc7-45e0-b116-5809bae78b6d",
   "metadata": {},
   "outputs": [],
   "source": []
  }
 ],
 "metadata": {
  "kernelspec": {
   "display_name": "Python 3 (ipykernel)",
   "language": "python",
   "name": "python3"
  },
  "language_info": {
   "codemirror_mode": {
    "name": "ipython",
    "version": 3
   },
   "file_extension": ".py",
   "mimetype": "text/x-python",
   "name": "python",
   "nbconvert_exporter": "python",
   "pygments_lexer": "ipython3",
   "version": "3.12.4"
  }
 },
 "nbformat": 4,
 "nbformat_minor": 5
}
