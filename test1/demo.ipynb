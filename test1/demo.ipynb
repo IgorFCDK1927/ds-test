{
 "cells": [
  {
   "cell_type": "code",
   "execution_count": 1,
   "id": "44ba2064-6df9-4398-b5c5-d020b717c902",
   "metadata": {},
   "outputs": [],
   "source": [
    "import numpy as np\n",
    "import torch\n",
    "import joblib\n",
    "from sklearn.datasets import fetch_openml\n",
    "from sklearn.model_selection import train_test_split\n",
    "from sklearn.preprocessing import StandardScaler\n",
    "from mnist_classifier import MnistClassifier\n",
    "import matplotlib.pyplot as plt\n",
    "\n",
    "# Loading MNIST dataset\n",
    "mnist = fetch_openml(\"mnist_784\", version=1)\n",
    "X, y = mnist.data, mnist.target.astype(int)\n",
    "\n",
    "# Train and test data\n",
    "X_train, X_test, y_train, y_test = train_test_split(X, y, test_size=0.2, random_state=42)\n",
    "\n",
    "scaler = StandardScaler() # Scaling data fot RF and FFNN\n",
    "X_train_scaled = scaler.fit_transform(X_train)\n",
    "X_test_scaled = scaler.transform(X_test)\n",
    "\n",
    "X_train_nn = X_train.values / 255.0  # Train normalization\n",
    "X_test_nn = X_test.values / 255.0  # Test normalization\n",
    "\n",
    "# Transform to numpy our data and to int data\n",
    "y_train = y_train.to_numpy()\n",
    "y_test = y_test.to_numpy()\n",
    "y_train = y_train.astype(int)\n",
    "y_test = y_test.astype(int)"
   ]
  },
  {
   "cell_type": "code",
   "execution_count": 2,
   "id": "21a99743-7084-4d9e-a71a-01994387f0d5",
   "metadata": {},
   "outputs": [
    {
     "name": "stdout",
     "output_type": "stream",
     "text": [
      "Training model: RF\n",
      "Training Random Forest\n",
      "Model RF trained.\n",
      "\n",
      "Training model: NN\n",
      "Initializing Feed-Forward Neural Network\n",
      "FFNN initialized\n",
      "X_train shape: torch.Size([56000, 784]), y_train shape: torch.Size([56000])\n",
      "Epoch 1 of 10, Loss: 223.0144\n",
      "Epoch 2 of 10, Loss: 90.6492\n",
      "Epoch 3 of 10, Loss: 57.4234\n",
      "Epoch 4 of 10, Loss: 43.5406\n",
      "Epoch 5 of 10, Loss: 33.4674\n",
      "Epoch 6 of 10, Loss: 27.1514\n",
      "Epoch 7 of 10, Loss: 21.6134\n",
      "Epoch 8 of 10, Loss: 21.6864\n",
      "Epoch 9 of 10, Loss: 25.9286\n",
      "Epoch 10 of 10, Loss: 16.1975\n",
      "Model NN trained.\n",
      "\n",
      "Training model: CNN\n",
      "Epoch 1 of 5, Loss: 161.6584\n",
      "Epoch 2 of 5, Loss: 46.0238\n",
      "Epoch 3 of 5, Loss: 31.0044\n",
      "Epoch 4 of 5, Loss: 22.0142\n",
      "Epoch 5 of 5, Loss: 18.0405\n",
      "Model CNN trained.\n",
      "\n"
     ]
    }
   ],
   "source": [
    "models = {}\n",
    "for model_type in [\"rf\", \"nn\", \"cnn\"]:\n",
    "    print(f\"Training model: {model_type.upper()}\")\n",
    "\n",
    "    clf = MnistClassifier(algorithm=model_type)\n",
    "\n",
    "    if model_type == \"cnn\":\n",
    "        # Data for CNN\n",
    "        X_train_tensor = torch.tensor(X_train_nn, dtype=torch.float32).view(-1, 1, 28, 28)\n",
    "        y_train_tensor = torch.tensor(y_train, dtype=torch.long)\n",
    "\n",
    "        clf.train(X_train_tensor, y_train_tensor, epochs=5)\n",
    "    else:\n",
    "        clf.train(X_train_scaled, y_train)\n",
    "\n",
    "    models[model_type] = clf\n",
    "    print(f\"Model {model_type.upper()} trained.\\n\")\n"
   ]
  },
  {
   "cell_type": "code",
   "execution_count": 3,
   "id": "66eda5d3-8e5f-45e0-a4d9-f8f980344b66",
   "metadata": {},
   "outputs": [
    {
     "name": "stdout",
     "output_type": "stream",
     "text": [
      "Testing of model: RF\n",
      "Predicting Random Forest\n",
      "Accuracy of RF: 0.9674\n",
      "\n",
      "Testing of model: NN\n",
      "Accuracy of NN: 0.8981\n",
      "\n",
      "Testing of model: CNN\n",
      "Accuracy of CNN: 0.9875\n",
      "\n"
     ]
    }
   ],
   "source": [
    "accuracies = {}\n",
    "\n",
    "for model_type, clf in models.items():\n",
    "    print(f\"Testing of model: {model_type.upper()}\")\n",
    "\n",
    "    \n",
    "    if model_type == \"cnn\":\n",
    "        X_test_tensor = torch.tensor(X_test_nn, dtype=torch.float32).view(-1, 1, 28, 28) # Transform test data to torch (number of colors, image size)\n",
    "        y_test_tensor = torch.tensor(y_test, dtype=torch.long) # # Transform test data to torch (int)\n",
    "        preds = clf.predict(X_test_tensor) # prediction number (0-9)\n",
    "        accuracy = np.mean(preds == y_test_tensor.numpy()) # % of right answers (True/False)\n",
    "\n",
    "    elif model_type == \"nn\":\n",
    "        X_test_tensor = torch.tensor(X_test_nn, dtype=torch.float32)\n",
    "        y_test_tensor = torch.tensor(y_test, dtype=torch.long)\n",
    "        preds = clf.predict(X_test_tensor)\n",
    "        accuracy = np.mean(preds == y_test_tensor.numpy())\n",
    "\n",
    "    else:\n",
    "        preds = clf.predict(X_test_scaled)\n",
    "        accuracy = np.mean(preds == y_test)\n",
    "\n",
    "    accuracies[model_type.upper()] = accuracy\n",
    "    print(f\"Accuracy of {model_type.upper()}: {accuracy:.4f}\\n\")\n",
    "\n",
    "\n"
   ]
  },
  {
   "cell_type": "code",
   "execution_count": 4,
   "id": "a7c95d59-39c1-412a-8fc8-1de552c89891",
   "metadata": {},
   "outputs": [
    {
     "name": "stdout",
     "output_type": "stream",
     "text": [
      "Final values:\n",
      "RF: 0.9674\n",
      "NN: 0.8981\n",
      "CNN: 0.9875\n"
     ]
    },
    {
     "data": {
      "image/png": "[encoded data removed]",
      "text/plain": [
       "<Figure size 640x480 with 1 Axes>"
      ]
     },
     "metadata": {},
     "output_type": "display_data"
    }
   ],
   "source": [
    "# Plot of compasion ML Models\n",
    "accuracy_keys = list(accuracies.keys())\n",
    "accuracy_values = list(accuracies.values())\n",
    "\n",
    "print(\"Final values:\")\n",
    "for key, value in zip(accuracy_keys, accuracy_values):\n",
    "    print(f\"{key}: {value:.4f}\")\n",
    "\n",
    "plt.bar(accuracy_keys, accuracy_values, color=['blue', 'red', 'green'])\n",
    "plt.xlabel(\"Model\")\n",
    "plt.ylabel(\"Accuracy\")\n",
    "plt.title(\"Comparing ML Models (MNIST Dataset)\")\n",
    "plt.ylim(0.80, 1.0)\n",
    "plt.show()\n"
   ]
  },
  {
   "cell_type": "code",
   "execution_count": 5,
   "id": "31370240-a035-4d92-b63e-33a74f59c551",
   "metadata": {},
   "outputs": [
    {
     "name": "stdout",
     "output_type": "stream",
     "text": [
      "Using model: CNN\n"
     ]
    },
    {
     "data": {
      "image/png": "[encoded data removed]",
      "text/plain": [
       "<Figure size 640x480 with 1 Axes>"
      ]
     },
     "metadata": {},
     "output_type": "display_data"
    },
    {
     "name": "stdout",
     "output_type": "stream",
     "text": [
      "Predicted number: 8\n"
     ]
    }
   ],
   "source": [
    "import cv2\n",
    "import matplotlib.pyplot as plt\n",
    "\n",
    "def preprocess_image(image_path):\n",
    "    img = cv2.imread(image_path, cv2.IMREAD_GRAYSCALE)  # Using gray color\n",
    "    img = cv2.resize(img, (28, 28)) \n",
    "    \n",
    "    # Channging color if white\n",
    "    if np.mean(img) > 128:\n",
    "        img = 255 - img\n",
    "\n",
    "    img = img.astype(np.float32) / 255.0  # Normalization\n",
    "    \n",
    "    img_cnn = torch.tensor(img).unsqueeze(0).unsqueeze(0)  # process for CNN\n",
    "    img_flat = img.flatten().reshape(1, -1)  # For RF and NN\n",
    "    \n",
    "    return img_cnn, img_flat, img\n",
    "\n",
    "def predict_image(image_path, model_type=\"cnn\"):\n",
    "    print(f\"Using model: {model_type.upper()}\")\n",
    "\n",
    "    clf = models[model_type]  \n",
    "    img_cnn, img_flat, img_vis = preprocess_image(image_path)\n",
    "\n",
    "    if model_type == \"cnn\":\n",
    "        pred = clf.predict(img_cnn)\n",
    "    else:\n",
    "        pred = clf.predict(img_flat)\n",
    "\n",
    "    # Plotting image with digit\n",
    "    plt.imshow(img_vis, cmap=\"gray\")\n",
    "    plt.title(f\"Predicted: {pred[0]}\")\n",
    "    plt.axis(\"off\")\n",
    "    plt.show()\n",
    "\n",
    "    return pred[0]\n",
    "\n",
    "# Predicting number by image\n",
    "image_path = \"images/ei.png\"  \n",
    "model_type = \"cnn\" \n",
    "predicted_digit = predict_image(image_path, model_type)\n",
    "print(f\"Predicted number: {predicted_digit}\")\n"
   ]
  },
  {
   "cell_type": "code",
   "execution_count": null,
   "id": "1fb820b8-52d8-4349-bd99-59d9ce9d2cb4",
   "metadata": {},
   "outputs": [],
   "source": []
  }
 ],
 "metadata": {
  "kernelspec": {
   "display_name": "Python 3 (ipykernel)",
   "language": "python",
   "name": "python3"
  },
  "language_info": {
   "codemirror_mode": {
    "name": "ipython",
    "version": 3
   },
   "file_extension": ".py",
   "mimetype": "text/x-python",
   "name": "python",
   "nbconvert_exporter": "python",
   "pygments_lexer": "ipython3",
   "version": "3.12.4"
  }
 },
 "nbformat": 4,
 "nbformat_minor": 5
}
